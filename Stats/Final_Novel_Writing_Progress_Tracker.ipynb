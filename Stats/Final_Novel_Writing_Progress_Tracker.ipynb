{
 "cells": [
  {
   "cell_type": "markdown",
   "id": "201b2814",
   "metadata": {},
   "source": [
    "# Novel Writing Progress Tracker"
   ]
  },
  {
   "cell_type": "markdown",
   "id": "368f8770",
   "metadata": {},
   "source": [
    "## Overview"
   ]
  },
  {
   "cell_type": "markdown",
   "id": "6b499019",
   "metadata": {},
   "source": [
    "\n",
    "This Jupyter notebook helps you track the word count of your novel written in a Microsoft Word document.\n",
    "It logs daily word counts, calculates metrics, and generates visualizations of your writing progress.\n"
   ]
  },
  {
   "cell_type": "markdown",
   "id": "3fc5fdff",
   "metadata": {},
   "source": [
    "## Import Libraries"
   ]
  },
  {
   "cell_type": "code",
   "execution_count": null,
   "id": "c6b00140",
   "metadata": {},
   "outputs": [],
   "source": [
    "\n",
    "import csv\n",
    "from datetime import datetime\n",
    "from docx import Document\n",
    "import pandas as pd\n",
    "import matplotlib.pyplot as plt\n"
   ]
  },
  {
   "cell_type": "markdown",
   "id": "1e1ede4e",
   "metadata": {},
   "source": [
    "## Functions"
   ]
  },
  {
   "cell_type": "markdown",
   "id": "ef8fb9ca",
   "metadata": {},
   "source": [
    "### Read Word Count from Document"
   ]
  },
  {
   "cell_type": "code",
   "execution_count": null,
   "id": "97c8e892",
   "metadata": {},
   "outputs": [],
   "source": [
    "\n",
    "def get_word_count(file_path):\n",
    "    doc = Document(file_path)\n",
    "    total_words = sum(len(paragraph.text.split()) for paragraph in doc.paragraphs)\n",
    "    return total_words\n"
   ]
  },
  {
   "cell_type": "markdown",
   "id": "962ac14c",
   "metadata": {},
   "source": [
    "### Log Word Count"
   ]
  },
  {
   "cell_type": "code",
   "execution_count": null,
   "id": "b9b2ca79",
   "metadata": {},
   "outputs": [],
   "source": [
    "\n",
    "def log_word_count(date, word_count, file_path):\n",
    "    with open(file_path, mode='a', newline='') as file:\n",
    "        writer = csv.writer(file)\n",
    "        writer.writerow([date, word_count])\n"
   ]
  },
  {
   "cell_type": "code",
   "execution_count": null,
   "id": "0a78c65f",
   "metadata": {},
   "outputs": [],
   "source": [
    "import csv\n",
    "from datetime import datetime\n",
    "\n",
    "def log_metrics(date, total_words, daily_increment, estimated_days, estimated_completion_date, file_path):\n",
    "    with open(file_path, mode='a', newline='') as file:\n",
    "        writer = csv.writer(file)\n",
    "        writer.writerow([date, total_words, daily_increment, estimated_days, estimated_completion_date])\n"
   ]
  },
  {
   "cell_type": "markdown",
   "id": "00cb0f02",
   "metadata": {},
   "source": [
    "# Estimate Completion"
   ]
  },
  {
   "cell_type": "code",
   "execution_count": null,
   "id": "6e275a22",
   "metadata": {},
   "outputs": [],
   "source": [
    "def estimate_completion(df, target_word_count):\n",
    "    total_words = df['Word Count'].iloc[-1]  # Get the latest cumulative word count\n",
    "    average_daily_words = df['Word Count'].diff().dropna().mean()  # Calculate average daily word count\n",
    "    remaining_words = max(target_word_count - total_words, 0)  # Calculate remaining words\n",
    "    if average_daily_words > 0:\n",
    "        estimated_days = remaining_words / average_daily_words  # Days to completion\n",
    "        completion_date = datetime.now().date() + pd.Timedelta(days=estimated_days)\n",
    "        return estimated_days, completion_date\n",
    "    else:\n",
    "        return float('inf'), None  # Infinite days if no progress\n"
   ]
  },
  {
   "cell_type": "markdown",
   "id": "7462844f",
   "metadata": {},
   "source": [
    "### Load Data"
   ]
  },
  {
   "cell_type": "code",
   "execution_count": null,
   "id": "a56c8a07",
   "metadata": {},
   "outputs": [],
   "source": [
    "\n",
    "def load_data(file_path):\n",
    "    return pd.read_csv(file_path, names=['Date', 'Word Count'], parse_dates=['Date'])\n"
   ]
  },
  {
   "cell_type": "code",
   "execution_count": null,
   "id": "d10b5fcc",
   "metadata": {},
   "outputs": [],
   "source": [
    "def plot_data(df):\n",
    "    # Calculate daily increments (difference between consecutive days)\n",
    "    df['Daily Increment'] = df['Word Count'].diff().fillna(0)  # Fill NA for the first entry with 0\n",
    "\n",
    "    fig, ax = plt.subplots(figsize=(10, 5))\n",
    "    \n",
    "    # Plot total word count\n",
    "    ax.plot(df['Date'], df['Word Count'], marker='o', label='Total Word Count', color='blue')\n",
    "    \n",
    "    # Plot daily increments\n",
    "    ax.plot(df['Date'], df['Daily Increment'], marker='x', linestyle='--', label='Daily Increment', color='red')\n",
    "    \n",
    "    ax.set_title('Word Count Progress')\n",
    "    ax.set_xlabel('Date')\n",
    "    ax.set_ylabel('Word Count')\n",
    "    ax.legend()\n",
    "    ax.grid(True)\n",
    "    \n",
    "    plt.savefig('word_count_progress.png')  # Save the figure as a PNG file\n",
    "    plt.show()\n",
    "\n"
   ]
  },
  {
   "cell_type": "markdown",
   "id": "e1f059e2",
   "metadata": {},
   "source": [
    "## Main Execution"
   ]
  },
  {
   "cell_type": "code",
   "execution_count": null,
   "id": "b46bea36",
   "metadata": {},
   "outputs": [],
   "source": [
    "# Get today's date in the format 'YYYY-MM-DD'\n",
    "today_date = datetime.now().strftime('%Y-%m-%d')\n",
    "# Define the path to your document\n",
    "doc_path = f'{ your book name }-nightly_{today_date}.docx'\n",
    "log_path = 'word_count.csv'\n",
    "today = datetime.now().date()\n",
    "\n",
    "# Process the document\n",
    "word_count = get_word_count(doc_path)\n",
    "log_word_count(today, word_count, log_path)\n",
    "df = load_data(log_path)\n",
    "plot_data(df)\n",
    "\n",
    "# Set target word count, estimate completion, and output stats\n",
    "target_word_count = 100000  # Example target, set your target\n",
    "estimated_days, completion_date = estimate_completion(df, target_word_count)\n",
    "print(f\"Target wordcount: {target_word_count}\")\n",
    "print(f\"Current wordcount: {word_count:.0f}\")\n",
    "print(f\"Latest contribution: {df['Word Count'].diff().iloc[-1]}\")\n",
    "print(f\"Precent to completion: {word_count/target_word_count * 100:.0f}%\")\n",
    "print(f\"Estimated days to completion: {estimated_days:.0f}\")\n",
    "print(f\"Estimated completion date: {completion_date}\")\n",
    "print(f\"Average Daily Words written: {df['Word Count'].diff().dropna().mean()}\")\n",
    "print(f\"Highest single-day word count: {df['Word Count'].diff().dropna().max()}\")\n",
    "# Usage\n",
    "log_metrics(\n",
    "    datetime.now().date(),\n",
    "    target_word_count,  # This should be calculated in your script\n",
    "    df['Word Count'].diff().iloc[-1],   # Calculate this as shown previously\n",
    "    estimated_days,    # From your completion estimate function\n",
    "    completion_date,  # From your completion estimate function\n",
    "    'metrics_log.csv'  # Path to your log file\n",
    ")\n",
    "\n"
   ]
  }
 ],
 "metadata": {
  "kernelspec": {
   "display_name": "base",
   "language": "python",
   "name": "python3"
  },
  "language_info": {
   "codemirror_mode": {
    "name": "ipython",
    "version": 3
   },
   "file_extension": ".py",
   "mimetype": "text/x-python",
   "name": "python",
   "nbconvert_exporter": "python",
   "pygments_lexer": "ipython3",
   "version": "3.11.5"
  }
 },
 "nbformat": 4,
 "nbformat_minor": 5
}
